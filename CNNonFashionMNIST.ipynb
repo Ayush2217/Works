{
  "nbformat": 4,
  "nbformat_minor": 0,
  "metadata": {
    "colab": {
      "name": "assignment6 (1).ipynb",
      "provenance": [],
      "collapsed_sections": []
    },
    "kernelspec": {
      "name": "python3",
      "display_name": "Python 3"
    },
    "language_info": {
      "name": "python"
    },
    "accelerator": "GPU"
  },
  "cells": [
    {
      "cell_type": "code",
      "metadata": {
        "id": "zUX-dWwZI13f",
        "colab": {
          "base_uri": "https://localhost:8080/"
        },
        "outputId": "29036027-4e16-4f96-c104-ae65ba52009a"
      },
      "source": [
        "import tensorflow\n",
        "from tensorflow.keras.models import Sequential\n",
        "from tensorflow.keras.layers import Dense, Conv2D,MaxPooling2D, Dropout, Activation, Flatten\n",
        "from tensorflow.keras.optimizers import SGD,Adam,RMSprop\n",
        "from tensorflow.keras.utils import to_categorical\n",
        "import numpy as np\n",
        "from matplotlib import pyplot\n",
        "from sklearn.model_selection import KFold\n",
        "from keras.datasets import fashion_mnist\n",
        "from keras.models import Sequential\n",
        "from keras.layers import Conv2D\n",
        "from keras.layers import MaxPooling2D\n",
        "from keras.layers import Dense\n",
        "from keras.layers import Flatten\n",
        "from keras.optimizers import SGD\n",
        "from google.colab import drive\n",
        "drive.mount('/content/drive')"
      ],
      "execution_count": 1,
      "outputs": [
        {
          "output_type": "stream",
          "text": [
            "Mounted at /content/drive\n"
          ],
          "name": "stdout"
        }
      ]
    },
    {
      "cell_type": "code",
      "metadata": {
        "id": "aGyFxGoPJT9R"
      },
      "source": [
        "train=np.loadtxt(\"/content/drive/MyDrive/FML/train.txt\")\n",
        "test=np.loadtxt(\"/content/drive/MyDrive/FML/test.txt\")\n",
        "\n",
        "xtrain=[train[i][0] for i in range(len(train))]\n",
        "ytrain=[train[i][1] for i in range(len(train))]\n",
        "xtest=[test[i][0] for i in range(len(test))]\n",
        "ytest=[test[i][1] for i in range(len(test))]"
      ],
      "execution_count": 2,
      "outputs": []
    },
    {
      "cell_type": "code",
      "metadata": {
        "id": "Eqp3FMAprSV8"
      },
      "source": [
        "def fizz_buzz_gen(x):\n",
        "  for i in range(len(x)):\n",
        "    x[i]=int(x[i])\n",
        "    if x[i]==1:\n",
        "      x[i]='Fizz'\n",
        "    elif x[i]==2:\n",
        "      x[i]='Buzz'\n",
        "    elif x[i]==3:\n",
        "      x[i]='FizzBuzz'\n",
        "  return x"
      ],
      "execution_count": 3,
      "outputs": []
    },
    {
      "cell_type": "code",
      "metadata": {
        "id": "CqVipcvXN9fL"
      },
      "source": [
        "ytrain_temp=fizz_buzz_gen(ytrain)\n",
        "ytest_temp=fizz_buzz_gen(ytest)"
      ],
      "execution_count": 4,
      "outputs": []
    },
    {
      "cell_type": "code",
      "metadata": {
        "id": "blIP3tiQOBit"
      },
      "source": [
        "def bin_data_gen(y):\n",
        "  size=np.size(y)\n",
        "  y_hat=np.zeros([size,4])\n",
        "  for i in range(0,len(y)):\n",
        "    if y[i]=='Fizz':\n",
        "      y_hat[i,:]=np.array([1,0,0,0])\n",
        "    elif y[i]=='Buzz':\n",
        "      y_hat[i,:]=np.array([0,1,0,0])\n",
        "    elif y[i]=='FizzBuzz':\n",
        "      y_hat[i,:]=np.array([0,0,1,0])\n",
        "    else :\n",
        "      y_hat[i,:]=np.array([0,0,0,1])\n",
        "  return y_hat"
      ],
      "execution_count": 5,
      "outputs": []
    },
    {
      "cell_type": "code",
      "metadata": {
        "id": "a97fns2I0y89"
      },
      "source": [
        "def labels(x):\n",
        "  return ((x.tolist()).index(max(x.tolist()))),(max(x.tolist()))"
      ],
      "execution_count": 6,
      "outputs": []
    },
    {
      "cell_type": "code",
      "metadata": {
        "id": "wMdzQocXL7mU"
      },
      "source": [
        "def vectorize(x):\n",
        "  y=[]\n",
        "  for i in range(10):\n",
        "    y.append(int((format(x,'010b')[i])))\n",
        "  return y"
      ],
      "execution_count": 7,
      "outputs": []
    },
    {
      "cell_type": "code",
      "metadata": {
        "id": "0IOoQ9ur6L79"
      },
      "source": [
        "\n",
        "#yr.shape[0]\n",
        "ytrain = bin_data_gen(ytrain_temp)\n",
        "ytest=bin_data_gen(ytest_temp)"
      ],
      "execution_count": 8,
      "outputs": []
    },
    {
      "cell_type": "code",
      "metadata": {
        "id": "pm_bk8zMNR_J"
      },
      "source": [
        "def vectored(y):\n",
        "  x=[]\n",
        "  for i in range(len(y)):\n",
        "    x.append(vectorize((int(y[i]))))\n",
        "  return x"
      ],
      "execution_count": 9,
      "outputs": []
    },
    {
      "cell_type": "code",
      "metadata": {
        "id": "ErDijnZo_b8f"
      },
      "source": [
        "def MLP(hidden_neurons, weight_init,weight_next, loss_fn, opt,nonlinearity):\n",
        "  input_dimention =10\n",
        "  output_dimention=4\n",
        "  model = Sequential()\n",
        "  model.add(Dense(hidden_neurons[0], input_dim=input_dimention, kernel_initializer= weight_init))\n",
        "  model.add(Activation(nonlinearity[1]))\n",
        "  model.add(Dense(hidden_neurons[1], kernel_initializer= weight_next))\n",
        "  #model.add(Activation(nonlinearity[1]))\n",
        "  #model.add(Dense(hidden_neurons[2], kernel_initializer= weight_next))\n",
        "  #model.add(Activation(nonlinearity[1]))\n",
        "  #model.add(Dense(hidden_neurons[3], kernel_initializer= weight_next))\n",
        "  #model.add(Activation(nonlinearity[1]))\n",
        "  model.add(Dense(output_dimention))\n",
        "  model.add(Activation(nonlinearity[2]))\n",
        "  model.compile(loss= loss_fn, optimizer=opt, metrics=['accuracy'])\n",
        "\t\n",
        "  return model"
      ],
      "execution_count": 10,
      "outputs": []
    },
    {
      "cell_type": "code",
      "metadata": {
        "id": "w8LdWTIgUN1V"
      },
      "source": [
        "def logix(x):\n",
        "  y=[]\n",
        "  for i in range(len(x)):\n",
        "    \n",
        "    temp=[int(x[i][j]) for j in range(4)]\n",
        "    y.append(temp)\n",
        "  return y"
      ],
      "execution_count": 11,
      "outputs": []
    },
    {
      "cell_type": "code",
      "metadata": {
        "id": "BkvFGdtMQjZC"
      },
      "source": [
        "x_vec=vectored(xtrain)\n",
        "y_vec=logix(ytrain)"
      ],
      "execution_count": 12,
      "outputs": []
    },
    {
      "cell_type": "code",
      "metadata": {
        "id": "nGfXOfl4_lbA",
        "colab": {
          "base_uri": "https://localhost:8080/"
        },
        "outputId": "2e396a82-5304-4707-f225-efe8e6ef6444"
      },
      "source": [
        "hidden_neurons = [32,64,64,64]\n",
        "nonlinearity=['sigmoid','relu','softmax']\n",
        "Epochs= 50\n",
        "Batch=256\n",
        "weight_init = 'normal'\n",
        "weight_next = 'uniform'\n",
        "learning_rate =0.01\n",
        "opt = Adam(lr=learning_rate)\n",
        "loss_fn = ['categorical_crossentropy']\n",
        "model = MLP(hidden_neurons, weight_init,weight_next, loss_fn, opt,nonlinearity)"
      ],
      "execution_count": 13,
      "outputs": [
        {
          "output_type": "stream",
          "text": [
            "/usr/local/lib/python3.7/dist-packages/tensorflow/python/keras/optimizer_v2/optimizer_v2.py:375: UserWarning: The `lr` argument is deprecated, use `learning_rate` instead.\n",
            "  \"The `lr` argument is deprecated, use `learning_rate` instead.\")\n"
          ],
          "name": "stderr"
        }
      ]
    },
    {
      "cell_type": "code",
      "metadata": {
        "id": "3ryNxEofX5HW",
        "colab": {
          "base_uri": "https://localhost:8080/"
        },
        "outputId": "7acaf6eb-e3a7-49f0-be22-2a4c04c2be7c"
      },
      "source": [
        "model.fit(x_vec, y_vec, epochs=Epochs,batch_size=Batch)"
      ],
      "execution_count": 14,
      "outputs": [
        {
          "output_type": "stream",
          "text": [
            "Epoch 1/50\n",
            "4/4 [==============================] - 13s 4ms/step - loss: 1.3117 - accuracy: 0.3587\n",
            "Epoch 2/50\n",
            "4/4 [==============================] - 0s 4ms/step - loss: 1.1686 - accuracy: 0.5314\n",
            "Epoch 3/50\n",
            "4/4 [==============================] - 0s 4ms/step - loss: 1.1372 - accuracy: 0.5378\n",
            "Epoch 4/50\n",
            "4/4 [==============================] - 0s 3ms/step - loss: 1.1441 - accuracy: 0.5352\n",
            "Epoch 5/50\n",
            "4/4 [==============================] - 0s 3ms/step - loss: 1.1300 - accuracy: 0.5378\n",
            "Epoch 6/50\n",
            "4/4 [==============================] - 0s 3ms/step - loss: 1.1403 - accuracy: 0.5345\n",
            "Epoch 7/50\n",
            "4/4 [==============================] - 0s 3ms/step - loss: 1.1422 - accuracy: 0.5285\n",
            "Epoch 8/50\n",
            "4/4 [==============================] - 0s 3ms/step - loss: 1.1344 - accuracy: 0.5391\n",
            "Epoch 9/50\n",
            "4/4 [==============================] - 0s 3ms/step - loss: 1.1222 - accuracy: 0.5500\n",
            "Epoch 10/50\n",
            "4/4 [==============================] - 0s 3ms/step - loss: 1.1353 - accuracy: 0.5364\n",
            "Epoch 11/50\n",
            "4/4 [==============================] - 0s 5ms/step - loss: 1.1296 - accuracy: 0.5293\n",
            "Epoch 12/50\n",
            "4/4 [==============================] - 0s 4ms/step - loss: 1.1313 - accuracy: 0.5301\n",
            "Epoch 13/50\n",
            "4/4 [==============================] - 0s 4ms/step - loss: 1.1371 - accuracy: 0.5295\n",
            "Epoch 14/50\n",
            "4/4 [==============================] - 0s 3ms/step - loss: 1.1350 - accuracy: 0.5272\n",
            "Epoch 15/50\n",
            "4/4 [==============================] - 0s 3ms/step - loss: 1.1198 - accuracy: 0.5311\n",
            "Epoch 16/50\n",
            "4/4 [==============================] - 0s 3ms/step - loss: 1.1174 - accuracy: 0.5335\n",
            "Epoch 17/50\n",
            "4/4 [==============================] - 0s 3ms/step - loss: 1.0948 - accuracy: 0.5364\n",
            "Epoch 18/50\n",
            "4/4 [==============================] - 0s 3ms/step - loss: 1.0904 - accuracy: 0.5344\n",
            "Epoch 19/50\n",
            "4/4 [==============================] - 0s 3ms/step - loss: 1.0671 - accuracy: 0.5384\n",
            "Epoch 20/50\n",
            "4/4 [==============================] - 0s 3ms/step - loss: 1.0613 - accuracy: 0.5338\n",
            "Epoch 21/50\n",
            "4/4 [==============================] - 0s 3ms/step - loss: 1.0390 - accuracy: 0.5437\n",
            "Epoch 22/50\n",
            "4/4 [==============================] - 0s 3ms/step - loss: 1.0465 - accuracy: 0.5319\n",
            "Epoch 23/50\n",
            "4/4 [==============================] - 0s 3ms/step - loss: 1.0297 - accuracy: 0.5288\n",
            "Epoch 24/50\n",
            "4/4 [==============================] - 0s 3ms/step - loss: 1.0064 - accuracy: 0.5485\n",
            "Epoch 25/50\n",
            "4/4 [==============================] - 0s 4ms/step - loss: 0.9973 - accuracy: 0.5553\n",
            "Epoch 26/50\n",
            "4/4 [==============================] - 0s 3ms/step - loss: 0.9759 - accuracy: 0.5891\n",
            "Epoch 27/50\n",
            "4/4 [==============================] - 0s 4ms/step - loss: 0.9827 - accuracy: 0.5901\n",
            "Epoch 28/50\n",
            "4/4 [==============================] - 0s 3ms/step - loss: 0.9575 - accuracy: 0.5960\n",
            "Epoch 29/50\n",
            "4/4 [==============================] - 0s 3ms/step - loss: 0.9400 - accuracy: 0.6201\n",
            "Epoch 30/50\n",
            "4/4 [==============================] - 0s 3ms/step - loss: 0.9180 - accuracy: 0.6073\n",
            "Epoch 31/50\n",
            "4/4 [==============================] - 0s 3ms/step - loss: 0.9281 - accuracy: 0.6029\n",
            "Epoch 32/50\n",
            "4/4 [==============================] - 0s 3ms/step - loss: 0.9015 - accuracy: 0.6028\n",
            "Epoch 33/50\n",
            "4/4 [==============================] - 0s 3ms/step - loss: 0.8863 - accuracy: 0.6254\n",
            "Epoch 34/50\n",
            "4/4 [==============================] - 0s 3ms/step - loss: 0.8872 - accuracy: 0.6356\n",
            "Epoch 35/50\n",
            "4/4 [==============================] - 0s 5ms/step - loss: 0.8985 - accuracy: 0.6216\n",
            "Epoch 36/50\n",
            "4/4 [==============================] - 0s 3ms/step - loss: 0.8852 - accuracy: 0.6201\n",
            "Epoch 37/50\n",
            "4/4 [==============================] - 0s 4ms/step - loss: 0.8868 - accuracy: 0.6247\n",
            "Epoch 38/50\n",
            "4/4 [==============================] - 0s 3ms/step - loss: 0.8519 - accuracy: 0.6303\n",
            "Epoch 39/50\n",
            "4/4 [==============================] - 0s 3ms/step - loss: 0.8038 - accuracy: 0.6404\n",
            "Epoch 40/50\n",
            "4/4 [==============================] - 0s 3ms/step - loss: 0.8190 - accuracy: 0.6346\n",
            "Epoch 41/50\n",
            "4/4 [==============================] - 0s 3ms/step - loss: 0.7936 - accuracy: 0.6512\n",
            "Epoch 42/50\n",
            "4/4 [==============================] - 0s 4ms/step - loss: 0.7813 - accuracy: 0.6538\n",
            "Epoch 43/50\n",
            "4/4 [==============================] - 0s 3ms/step - loss: 0.7561 - accuracy: 0.6518\n",
            "Epoch 44/50\n",
            "4/4 [==============================] - 0s 5ms/step - loss: 0.7493 - accuracy: 0.6680\n",
            "Epoch 45/50\n",
            "4/4 [==============================] - 0s 3ms/step - loss: 0.7408 - accuracy: 0.6539\n",
            "Epoch 46/50\n",
            "4/4 [==============================] - 0s 4ms/step - loss: 0.7259 - accuracy: 0.6623\n",
            "Epoch 47/50\n",
            "4/4 [==============================] - 0s 3ms/step - loss: 0.7459 - accuracy: 0.6492\n",
            "Epoch 48/50\n",
            "4/4 [==============================] - 0s 4ms/step - loss: 0.7169 - accuracy: 0.6791\n",
            "Epoch 49/50\n",
            "4/4 [==============================] - 0s 3ms/step - loss: 0.6925 - accuracy: 0.6640\n",
            "Epoch 50/50\n",
            "4/4 [==============================] - 0s 3ms/step - loss: 0.6781 - accuracy: 0.6873\n"
          ],
          "name": "stdout"
        },
        {
          "output_type": "execute_result",
          "data": {
            "text/plain": [
              "<keras.callbacks.History at 0x7f2fe0778410>"
            ]
          },
          "metadata": {
            "tags": []
          },
          "execution_count": 14
        }
      ]
    },
    {
      "cell_type": "code",
      "metadata": {
        "id": "aiBL0QndRZJF"
      },
      "source": [
        "xtest=vectored(xtest)\n",
        "ytest=logix(ytest)"
      ],
      "execution_count": 15,
      "outputs": []
    },
    {
      "cell_type": "code",
      "metadata": {
        "id": "yWUa2BoNFskI",
        "colab": {
          "base_uri": "https://localhost:8080/"
        },
        "outputId": "1e6c80b3-9dde-48e8-810c-ebcba5f45c24"
      },
      "source": [
        "score = model.evaluate(xtest, ytest, batch_size=Batch)\n",
        "print(f'Test accuracy: {score[1]}')"
      ],
      "execution_count": 16,
      "outputs": [
        {
          "output_type": "stream",
          "text": [
            "1/1 [==============================] - 0s 412ms/step - loss: 0.7513 - accuracy: 0.6667\n",
            "Test accuracy: 0.6666666865348816\n"
          ],
          "name": "stdout"
        }
      ]
    },
    {
      "cell_type": "code",
      "metadata": {
        "id": "NYroxipVJvrF",
        "colab": {
          "base_uri": "https://localhost:8080/"
        },
        "outputId": "d20ae60c-27ac-47c9-ecd5-6d7ba9a5718e"
      },
      "source": [
        "enter_number = [12]\n",
        "estimate = model.predict((vectored(enter_number)))\n",
        "print(estimate[0])\n",
        "label, probability = labels(estimate[0])\n",
        "print('Class/label: %s' % label)\n",
        "print('Probability that given number belongs to above class: %s' % probability)"
      ],
      "execution_count": 17,
      "outputs": [
        {
          "output_type": "stream",
          "text": [
            "[8.6071705e-06 2.9782805e-01 2.8160283e-01 4.2056054e-01]\n",
            "Class/label: 3\n",
            "Probability that given number belongs to above class: 0.4205605387687683\n"
          ],
          "name": "stdout"
        }
      ]
    },
    {
      "cell_type": "code",
      "metadata": {
        "id": "UHhrNF_ROYIX"
      },
      "source": [
        "def CNN(hidden_neurons, weight_init, loss_fn, opt, nonlinearity, dp,dp_trick):\n",
        "  mod=[]\n",
        "  for i in range(5):\n",
        "    input_dimention =(28,28,1) \n",
        "    filter_shape = (3,3)\n",
        "    output_dimention=10\n",
        "    model = Sequential()\n",
        "    model.add(Conv2D(hidden_neurons[i][0], kernel_size=filter_shape, input_shape=input_dimention, kernel_initializer= weight_init))\n",
        "    model.add(Activation(nonlinearity[2]))\n",
        "    if dp_trick==0 or dp_trick==5:\n",
        "      model.add(Dropout(dp[0]))\n",
        "\n",
        "    model.add(Conv2D(hidden_neurons[i][1], kernel_size=filter_shape, kernel_initializer= weight_init))\n",
        "    model.add(Activation(nonlinearity[0]))\n",
        "    if dp_trick==1 or dp_trick==5:\n",
        "      model.add(Dropout(dp[1]))\n",
        "\n",
        "    model.add(Conv2D(hidden_neurons[i][2], kernel_size=filter_shape, kernel_initializer= weight_init))\n",
        "    model.add(Activation(nonlinearity[0]))\n",
        "    model.add(MaxPooling2D((2,2)))\n",
        "    if dp_trick==2 or dp_trick==5:\n",
        "      model.add(Dropout(dp[2]))\n",
        "\n",
        "    model.add(Flatten())\n",
        "\n",
        "    model.add(Dense(hidden_neurons[i][3], kernel_initializer= weight_init))\n",
        "    model.add(Activation(nonlinearity[0])) \n",
        "    if dp_trick==3 or dp_trick==5:\n",
        "      model.add(Dropout(dp[3]))\n",
        "\n",
        "    model.add(Dense(output_dimention))\n",
        "    model.add(Activation(nonlinearity[1]))\n",
        "    if dp_trick==4 or dp_trick==5:\n",
        "      model.add(Dropout(dp[4]))\n",
        "\n",
        "    model.compile(loss= loss_fn, optimizer=opt, metrics=['accuracy'])\n",
        "    mod.append(model)\n",
        "  return mod"
      ],
      "execution_count": 18,
      "outputs": []
    },
    {
      "cell_type": "code",
      "metadata": {
        "id": "muGCSwZsPmuC",
        "colab": {
          "base_uri": "https://localhost:8080/"
        },
        "outputId": "6e9c295d-bf1a-40b3-a6d0-5457e6450eac"
      },
      "source": [
        "# Load data\n",
        "fashion_mnist =tensorflow.keras.datasets.fashion_mnist\n",
        "( xtrain_temp_1 , ytrain1 ) , ( xtest_temp_1 , ytest1 ) = fashion_mnist.load_data()\n",
        "\n",
        "xtrain_temp = xtrain_temp_1.reshape((xtrain_temp_1.shape[0], 28, 28, 1))/ 255.0\n",
        "xtest_temp = xtest_temp_1.reshape((xtest_temp_1.shape[0], 28, 28, 1))/ 255.0\n",
        "xtrain1=np.float32(xtrain_temp)\n",
        "xtest1=np.float32(xtest_temp)\n",
        "trainX = to_categorical(xtrain1)\n",
        "testX = to_categorical(xtest1)\n",
        "trainY=ytrain1\n",
        "testY=ytest1"
      ],
      "execution_count": 19,
      "outputs": [
        {
          "output_type": "stream",
          "text": [
            "Downloading data from https://storage.googleapis.com/tensorflow/tf-keras-datasets/train-labels-idx1-ubyte.gz\n",
            "32768/29515 [=================================] - 0s 0us/step\n",
            "Downloading data from https://storage.googleapis.com/tensorflow/tf-keras-datasets/train-images-idx3-ubyte.gz\n",
            "26427392/26421880 [==============================] - 0s 0us/step\n",
            "Downloading data from https://storage.googleapis.com/tensorflow/tf-keras-datasets/t10k-labels-idx1-ubyte.gz\n",
            "8192/5148 [===============================================] - 0s 0us/step\n",
            "Downloading data from https://storage.googleapis.com/tensorflow/tf-keras-datasets/t10k-images-idx3-ubyte.gz\n",
            "4423680/4422102 [==============================] - 0s 0us/step\n"
          ],
          "name": "stdout"
        }
      ]
    },
    {
      "cell_type": "code",
      "metadata": {
        "id": "kB8owly0Pqhr",
        "colab": {
          "base_uri": "https://localhost:8080/"
        },
        "outputId": "478ab230-2781-40c7-8066-a1dc5e714771"
      },
      "source": [
        "# Hyperparameters\n",
        "hidden_neurons = [[32,64,128,64],[64,64,128,128],[128,128,128,128],[256,256,256,128],[256,256,128,128]]\n",
        "nonlinearity1=['relu','softmax','sigmoid']\n",
        "nonlinearity2=['relu','softmax','relu']\n",
        "dp = [0.9,0.8,0.6,0.5,0.6]\n",
        "Epochs= 10\n",
        "Batch=512\n",
        "weight_init_all = ['uniform','normal']\n",
        "checking=input('Do you want to use default values if yes type YES otherwise say No and proceed')\n",
        "if checking=='YES':\n",
        "  learning_rate_input=input('Enter yes if you want your own learningb rate otherwise learning rate 0.005 will be used: ')\n",
        "  if learning_rate_input=='yes':\n",
        "    learning_rate=float(input('Enter your learning rate'))\n",
        "  else:\n",
        "    learning_rate = 0.005\n",
        "learning_rate = 0.005\n",
        "opt_all = [Adam(learning_rate), SGD(learning_rate), RMSprop(learning_rate)]\n",
        "loss_fn = ['sparse_categorical_crossentropy','MSE']"
      ],
      "execution_count": 26,
      "outputs": [
        {
          "output_type": "stream",
          "text": [
            "Do you want to use default values if yes type YES otherwise say No and proceedNo\n"
          ],
          "name": "stdout"
        }
      ]
    },
    {
      "cell_type": "code",
      "metadata": {
        "id": "DRfTXN0VQZuP",
        "colab": {
          "base_uri": "https://localhost:8080/"
        },
        "outputId": "a92ad4c1-fe44-427b-ae29-cf85ef029f57"
      },
      "source": [
        "# Training\n",
        "print('Best performance obtained for  h=0, k=6,j=1,i=6 and that is what used for default')\n",
        "if checking=='YES':\n",
        "  h=int(input('Enter a no. between 0,1,2,3,4 to choose hidden neurons set as given above, for e.g 0 to choose [32,64,128,64] and others: '))\n",
        "  k=int(input('ENTER K= 0,1,2,3,4 respectively for adding dropout at first, second , third, fourth layer, and k=5 to add dropout at all the levels, otherwise enter any other no. to not add dropout: '))\n",
        "  j=int(input('Enter 0 to use sigmoid at first step otherwise enter any other no.: '))\n",
        "  i=int(input('choose a no. between 0,6, for eg if 0 is choosen optimiser=adam, weight=uniform and 2 will give optimiser= RMS_prop and weight =uniform: '))\n",
        "  l=int(input('choose 0 for loss function sparse_categorical_crossentropy and 1 for MSE'))\n",
        "else:\n",
        "  h=0\n",
        "  k=6\n",
        "  j=1\n",
        "  i=6\n",
        "  l=0\n",
        "print('No of neurons in each hidden layer are respectively',hidden_neurons[h])\n",
        "if k==0:\n",
        "  print('Dropout of',dp[0],'is used at first layer')\n",
        "elif k==1:\n",
        "  print('Dropout of',dp[1],'is used at second layer ')\n",
        "elif k==2:\n",
        "  print('Dropout of',dp[2],'is used at third layer ')\n",
        "elif k==3:\n",
        "  print('Dropout of',dp[3],'is used at first layer ')\n",
        "elif k==4:\n",
        "  print('Dropout of',dp[4],'is used at first layer ')\n",
        "else: \n",
        "  print('Dropout is used at used at all layer in squence of',dp[0],'at first and so on as', dp[1], dp[2], dp[3], dp[4])\n",
        "if j== 0:\n",
        "  print('In Nonlinearity sigmoid is used at first step ')\n",
        "  nonlinearity=nonlinearity1\n",
        "  if i==0:\n",
        "    print('Optimiser being used is ADAM')\n",
        "    print('weight is Uniform')\n",
        "    opt=opt_all[0]\n",
        "    weight_init=weight_init_all[0]\n",
        "    model2 = CNN(hidden_neurons, weight_init, loss_fn[l], opt,nonlinearity,dp,k)\n",
        "    model2[h].fit(xtrain1, ytrain1, epochs=Epochs, batch_size=Batch, shuffle=True, validation_split=0.1)\n",
        "  elif i==1:\n",
        "    print('Optimiser being used is ADAM')\n",
        "    print(' And weight is Normal')\n",
        "    opt=opt_all[0]\n",
        "    weight_init=weight_init_all[1]\n",
        "    model2 = CNN(hidden_neurons, weight_init, loss_fn[l], opt,nonlinearity,dp,k)\n",
        "    model2[h].fit(xtrain1, ytrain1, epochs=Epochs, batch_size=Batch, shuffle=True, validation_split=0.1)\n",
        "  elif i==2:\n",
        "    print('Optimiser being used is SGD')\n",
        "    print('And weight is uniform')\n",
        "    opt=opt_all[1]\n",
        "    weight_init=weight_init_all[0]\n",
        "    model2 = CNN(hidden_neurons, weight_init, loss_fn[l], opt,nonlinearity,dp,k)\n",
        "    model2[h].fit(xtrain1, ytrain1, epochs=Epochs, batch_size=Batch, shuffle=True, validation_split=0.1)\n",
        "  elif i==3:\n",
        "    print('Optimiser being used is SGD')\n",
        "    print('And weight is Normal')\n",
        "    opt=opt_all[1]\n",
        "    weight_init=weight_init_all[1]\n",
        "    model2 = CNN(hidden_neurons, weight_init, loss_fn[l], opt,nonlinearity,dp,k)\n",
        "    model2[h].fit(xtrain1, ytrain1, epochs=Epochs, batch_size=Batch, shuffle=True, validation_split=0.1)\n",
        "  elif i==4:\n",
        "    print('Optimiser being used is RMS_prop')\n",
        "    print('And weight is uniform')\n",
        "    opt=opt_all[2]\n",
        "    weight_init=weight_init_all[0]\n",
        "    model2 = CNN(hidden_neurons, weight_init, loss_fn[l], opt,nonlinearity,dp,k)\n",
        "    model2[h].fit(xtrain1, ytrain1, epochs=Epochs, batch_size=Batch, shuffle=True, validation_split=0.1)\n",
        "  else:\n",
        "    print('Optimiser being used is RMS_prop')\n",
        "    print('And weight is Normal')\n",
        "    opt=opt_all[2]\n",
        "    weight_init=weight_init_all[1]\n",
        "    model2 = CNN(hidden_neurons, weight_init, loss_fn[l], opt,nonlinearity,dp,k)\n",
        "    model2[h].fit(xtrain1, ytrain1, epochs=Epochs, batch_size=Batch, shuffle=True, validation_split=0.1)\n",
        "else:\n",
        "  print('In Nonlinearity sigmoid is not used at first step ')\n",
        "  nonlinearity=nonlinearity2\n",
        "  if i==0:\n",
        "    print('Optimiser being used is ADAM')\n",
        "    print('weight is Uniform')\n",
        "    opt=opt_all[0]\n",
        "    weight_init=weight_init_all[0]\n",
        "    model2 = CNN(hidden_neurons, weight_init, loss_fn[l], opt,nonlinearity,dp,k)\n",
        "    model2[h].fit(xtrain1, ytrain1, epochs=Epochs, batch_size=Batch, shuffle=True, validation_split=0.1)\n",
        "  elif i==1:\n",
        "    print('Optimiser being used is ADAM')\n",
        "    print(' And weight is Normal')\n",
        "    opt=opt_all[0]\n",
        "    weight_init=weight_init_all[1]\n",
        "    model2 = CNN(hidden_neurons, weight_init, loss_fn[l], opt,nonlinearity,dp,k)\n",
        "    model2[h].fit(xtrain1, ytrain1, epochs=Epochs, batch_size=Batch, shuffle=True, validation_split=0.1)\n",
        "  elif i==2:\n",
        "    print('Optimiser being used is SGD')\n",
        "    print('And weight is uniform')\n",
        "    opt=opt_all[1]\n",
        "    weight_init=weight_init_all[0]\n",
        "    model2 = CNN(hidden_neurons, weight_init, loss_fn[l], opt,nonlinearity,dp,k)\n",
        "    model2[h].fit(xtrain1, ytrain1, epochs=Epochs, batch_size=Batch, shuffle=True, validation_split=0.1)\n",
        "  elif i==3:\n",
        "    print('Optimiser being used is SGD')\n",
        "    print('And weight is Normal')\n",
        "    opt=opt_all[1]\n",
        "    weight_init=weight_init_all[1]\n",
        "    model2 = CNN(hidden_neurons, weight_init, loss_fn[l], opt,nonlinearity,dp,k)\n",
        "    model2[h].fit(xtrain1, ytrain1, epochs=Epochs, batch_size=Batch, shuffle=True, validation_split=0.1)\n",
        "  elif i==4:\n",
        "    print('Optimiser being used is RMS_prop')\n",
        "    print('And weight is uniform')\n",
        "    opt=opt_all[2]\n",
        "    weight_init=weight_init_all[0]\n",
        "    model2 = CNN(hidden_neurons, weight_init, loss_fn[l], opt,nonlinearity,dp,k)\n",
        "    model2[h].fit(xtrain1, ytrain1, epochs=Epochs, batch_size=Batch, shuffle=True, validation_split=0.1)\n",
        "  else:\n",
        "    print('Optimiser being used is RMS_prop')\n",
        "    print('And weight is Normal')\n",
        "    opt=opt_all[2]\n",
        "    weight_init=weight_init_all[1]\n",
        "    model2 = CNN(hidden_neurons, weight_init, loss_fn[l], opt,nonlinearity,dp,k)\n",
        "    model2[h].fit(xtrain1, ytrain1, epochs=Epochs, batch_size=Batch, shuffle=True, validation_split=0.1)"
      ],
      "execution_count": 29,
      "outputs": [
        {
          "output_type": "stream",
          "text": [
            "Best performance obtained for  h=0, k=6,j=1,i=6 and that is what used for default\n",
            "No of neurons in each hidden layer are respectively [32, 64, 128, 64]\n",
            "Dropout is used at used at all layer in squence of 0.9 at first and so on as 0.8 0.6 0.5 0.6\n",
            "In Nonlinearity sigmoid is not used at first step \n",
            "Optimiser being used is RMS_prop\n",
            "And weight is Normal\n",
            "Epoch 1/10\n",
            "106/106 [==============================] - 6s 49ms/step - loss: 1.8616 - accuracy: 0.4846 - val_loss: 0.4730 - val_accuracy: 0.8233\n",
            "Epoch 2/10\n",
            "106/106 [==============================] - 5s 45ms/step - loss: 0.4230 - accuracy: 0.8424 - val_loss: 0.3691 - val_accuracy: 0.8698\n",
            "Epoch 3/10\n",
            "106/106 [==============================] - 5s 45ms/step - loss: 0.3141 - accuracy: 0.8828 - val_loss: 0.3348 - val_accuracy: 0.8780\n",
            "Epoch 4/10\n",
            "106/106 [==============================] - 5s 45ms/step - loss: 0.2373 - accuracy: 0.9110 - val_loss: 0.3465 - val_accuracy: 0.8795\n",
            "Epoch 5/10\n",
            "106/106 [==============================] - 5s 45ms/step - loss: 0.1963 - accuracy: 0.9265 - val_loss: 0.2680 - val_accuracy: 0.9117\n",
            "Epoch 6/10\n",
            "106/106 [==============================] - 5s 45ms/step - loss: 0.1567 - accuracy: 0.9402 - val_loss: 0.2544 - val_accuracy: 0.9128\n",
            "Epoch 7/10\n",
            "106/106 [==============================] - 5s 45ms/step - loss: 0.1247 - accuracy: 0.9517 - val_loss: 0.3268 - val_accuracy: 0.8973\n",
            "Epoch 8/10\n",
            "106/106 [==============================] - 5s 45ms/step - loss: 0.1036 - accuracy: 0.9610 - val_loss: 0.2946 - val_accuracy: 0.9175\n",
            "Epoch 9/10\n",
            "106/106 [==============================] - 5s 47ms/step - loss: 0.0784 - accuracy: 0.9707 - val_loss: 0.3632 - val_accuracy: 0.9028\n",
            "Epoch 10/10\n",
            "106/106 [==============================] - 5s 45ms/step - loss: 0.0707 - accuracy: 0.9744 - val_loss: 0.3528 - val_accuracy: 0.9125\n"
          ],
          "name": "stdout"
        }
      ]
    },
    {
      "cell_type": "code",
      "metadata": {
        "id": "nHR4CIQUQcyy"
      },
      "source": [
        "model2[h].evaluate(xtest1,ytest1)"
      ],
      "execution_count": null,
      "outputs": []
    },
    {
      "cell_type": "code",
      "metadata": {
        "id": "G-WxQRVMWBYi"
      },
      "source": [
        ""
      ],
      "execution_count": null,
      "outputs": []
    }
  ]
}